{
  "cells": [
    {
      "cell_type": "code",
      "execution_count": null,
      "metadata": {
        "colab": {
          "base_uri": "https://localhost:8080/"
        },
        "id": "brDCEOsLz3Qa",
        "outputId": "2c768e3d-411c-428e-d271-6632d6c7be11"
      },
      "outputs": [],
      "source": [
        "# from google.colab import drive\n",
        "# drive.mount('/content/gdrive')"
      ]
    },
    {
      "cell_type": "code",
      "execution_count": null,
      "metadata": {
        "colab": {
          "base_uri": "https://localhost:8080/"
        },
        "id": "bLOn7TekLLWD",
        "outputId": "1a96dbf7-963d-4543-c44e-4690cae9f3bf"
      },
      "outputs": [],
      "source": [
        "#Normal imports\n",
        "import os\n",
        "import tensorflow as tf\n",
        "import keras\n",
        "import matplotlib.pyplot as plt\n",
        "\n",
        "#For imagedatagen\n",
        "from tensorflow.keras.preprocessing.image import ImageDataGenerator\n",
        "\n",
        "#For the custom model\n",
        "from tensorflow.keras.models import Sequential\n",
        "from tensorflow.keras.layers import Conv2D, MaxPooling2D, Dense, Flatten, Dropout\n",
        "\n",
        "#For the test train split\n",
        "from sklearn.model_selection import train_test_split\n",
        "\n",
        "#For the optimizer\n",
        "from tensorflow.keras.optimizers import Adam\n",
        "import tensorflow_addons as tfa"
      ]
    },
    {
      "cell_type": "code",
      "execution_count": null,
      "metadata": {},
      "outputs": [],
      "source": [
        "data = 'C:/Users/Student/sreekar/augemted_dataset'"
      ]
    },
    {
      "cell_type": "markdown",
      "metadata": {},
      "source": [
        "## Image datagen"
      ]
    },
    {
      "cell_type": "code",
      "execution_count": null,
      "metadata": {
        "id": "wcjsfLbK05b1"
      },
      "outputs": [],
      "source": [
        "# Creating a Data Generator Object\n",
        "datagen = ImageDataGenerator(\n",
        "    featurewise_center=False,\n",
        "    samplewise_center=False,\n",
        "    featurewise_std_normalization=False,\n",
        "    samplewise_std_normalization=False,\n",
        "    zca_whitening=False,\n",
        "    zca_epsilon=1e-06,\n",
        "    rotation_range=0,\n",
        "    width_shift_range=0.0,\n",
        "    height_shift_range=0.0,\n",
        "    brightness_range=None,\n",
        "    shear_range=0.0,\n",
        "    zoom_range=0.0,\n",
        "    channel_shift_range=0.0,\n",
        "    fill_mode='nearest',\n",
        "    cval=0.0,\n",
        "    horizontal_flip=False,\n",
        "    vertical_flip=False,\n",
        "    rescale=None,\n",
        "    preprocessing_function=None,\n",
        "    data_format=None,\n",
        "    validation_split=0.2,\n",
        "    interpolation_order=1,\n",
        "    dtype=None\n",
        ")"
      ]
    },
    {
      "cell_type": "code",
      "execution_count": null,
      "metadata": {
        "colab": {
          "base_uri": "https://localhost:8080/"
        },
        "id": "Xb9wrl-o07HG",
        "outputId": "eb67788d-c80f-4706-8eb0-7728d536ba7c"
      },
      "outputs": [],
      "source": [
        "train_set = datagen.flow_from_directory(\n",
        "    data,\n",
        "    target_size = (256, 256),\n",
        "    batch_size = 64,\n",
        "    subset = 'training',\n",
        "    class_mode='categorical',\n",
        "    shuffle= False\n",
        ")"
      ]
    },
    {
      "cell_type": "code",
      "execution_count": null,
      "metadata": {
        "colab": {
          "base_uri": "https://localhost:8080/"
        },
        "id": "ExymFmMs08WL",
        "outputId": "eac8ddbc-a889-4931-b5c5-acc93b822a36"
      },
      "outputs": [],
      "source": [
        "valid_set = datagen.flow_from_directory(\n",
        "    data,\n",
        "    target_size = (256, 256),\n",
        "    batch_size = 64,\n",
        "    subset = 'validation',\n",
        "    class_mode='categorical',\n",
        "    shuffle= False\n",
        ")"
      ]
    },
    {
      "cell_type": "code",
      "execution_count": null,
      "metadata": {},
      "outputs": [],
      "source": [
        "# import os\n",
        "# from IPython.display import display, Image\n",
        "\n",
        "# def display_images_from_class(dataset_path, class_name):\n",
        "#     class_path = os.path.join(dataset_path, class_name)\n",
        "\n",
        "#     try:\n",
        "#         # Get a list of all image files in the class directory\n",
        "#         image_files = [f for f in os.listdir(class_path) if f.endswith(('.jpg', '.jpeg', '.png'))]\n",
        "\n",
        "#         if not image_files:\n",
        "#             print(f\"No images found in the {class_name} class.\")\n",
        "#             return\n",
        "\n",
        "#         # Display each image\n",
        "#         for image_file in image_files:\n",
        "#             image_path = os.path.join(class_path, image_file)\n",
        "#             display(Image(filename=image_path, format='png'))\n",
        "\n",
        "#     except FileNotFoundError:\n",
        "#         print(f\"Error: Class {class_name} not found in the dataset.\")\n",
        "#     except Exception as e:\n",
        "#         print(f\"Error: An unexpected error occurred - {e}\")\n",
        "\n",
        "# # Example usage:\n",
        "# dataset_path = 'C:/Users/Student/sreekar/augemted_dataset'  # Replace with the actual path to your dataset\n",
        "# class_name_to_display = 'C:/Users/Student/sreekar/augemted_dataset/A1'  # Replace with the class name you want to display\n",
        "# display_images_from_class(dataset_path, class_name_to_display)\n"
      ]
    },
    {
      "cell_type": "markdown",
      "metadata": {},
      "source": [
        "## model"
      ]
    },
    {
      "cell_type": "code",
      "execution_count": null,
      "metadata": {},
      "outputs": [],
      "source": [
        "# data_augmentation = keras.Sequential(\n",
        "#   [\n",
        "#     layers.RandomFlip(\"horizontal\",\n",
        "#                       input_shape=(224,224,3)),\n",
        "#     layers.RandomRotation(0.1),\n",
        "#     layers.RandomZoom(0.1),\n",
        "#   ]\n",
        "# )"
      ]
    },
    {
      "cell_type": "code",
      "execution_count": null,
      "metadata": {
        "id": "K0eQXT1O09NX"
      },
      "outputs": [],
      "source": [
        "model = Sequential()\n",
        "\n",
        "# Input Layers\n",
        "model.add(Conv2D(filters=64, kernel_size=(3,3), activation='relu', input_shape=(224,224,3)))\n",
        "model.add(MaxPooling2D(pool_size=(2,2)))\n",
        "\n",
        "model.add(Conv2D(filters=128, kernel_size=(3,3), activation='relu', input_shape=(224,224,3)))\n",
        "model.add(MaxPooling2D(pool_size=(2,2)))\n",
        "\n",
        "model.add(Conv2D(filters=128, kernel_size=(3,3), activation='relu', input_shape=(224,224,3)))\n",
        "model.add(MaxPooling2D(pool_size=(2,2)))\n",
        "\n",
        "model.add(Conv2D(filters=64, kernel_size=(3,3), activation='relu', input_shape=(224,224,3)))\n",
        "model.add(MaxPooling2D(pool_size=(2,2)))\n",
        "\n",
        "model.add(Flatten())\n",
        "\n",
        "# Dense Layers\n",
        "model.add(Dense(256, activation='relu'))\n",
        "model.add(Dense(128, activation='relu'))\n",
        "\n",
        "# Output Layer\n",
        "model.add(Dense(units = 673, activation = 'softmax'))"
      ]
    },
    {
      "cell_type": "code",
      "execution_count": null,
      "metadata": {
        "id": "3mX9wRhr0-Rv"
      },
      "outputs": [],
      "source": [
        "model.compile(optimizer=Adam(lr = 0.00001),\n",
        "            loss='categorical_crossentropy',\n",
        "            metrics=['accuracy', keras.metrics.Precision(), keras.metrics.Recall(), tfa.metrics.F1Score(num_classes=673, average='macro')])\n",
        "\n",
        "model.summary()"
      ]
    },
    {
      "cell_type": "code",
      "execution_count": null,
      "metadata": {
        "id": "f_yGeZWI1AiG"
      },
      "outputs": [],
      "source": [
        "logdir = 'logs'\n",
        "tensorboard_callback = tf.keras.callbacks.TensorBoard(log_dir = logdir)"
      ]
    },
    {
      "cell_type": "code",
      "execution_count": null,
      "metadata": {
        "colab": {
          "base_uri": "https://localhost:8080/",
          "height": 407
        },
        "id": "cnP5ifaw1Bv7",
        "outputId": "adbe05e2-4ef7-4948-bcbf-8abd5747f1e7"
      },
      "outputs": [],
      "source": [
        "# Train the model\n",
        "hist = model.fit(train_set, validation_data=valid_set,\n",
        "            epochs = 20, steps_per_epoch=len(train_set),\n",
        "                    validation_steps=len(valid_set), callbacks = [tensorboard_callback])"
      ]
    }
  ],
  "metadata": {
    "colab": {
      "provenance": []
    },
    "kernelspec": {
      "display_name": "Python 3",
      "name": "python3"
    },
    "language_info": {
      "codemirror_mode": {
        "name": "ipython",
        "version": 3
      },
      "file_extension": ".py",
      "mimetype": "text/x-python",
      "name": "python",
      "nbconvert_exporter": "python",
      "pygments_lexer": "ipython3",
      "version": "3.10.0"
    }
  },
  "nbformat": 4,
  "nbformat_minor": 0
}
